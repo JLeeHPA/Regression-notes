{
 "cells": [
  {
   "cell_type": "markdown",
   "metadata": {},
   "source": [
    "# General Linear Models"
   ]
  },
  {
   "cell_type": "markdown",
   "metadata": {},
   "source": [
    "## Table of Contents:"
   ]
  },
  {
   "cell_type": "markdown",
   "metadata": {},
   "source": [
    "1. [General Linear Models](#General-Linear-Models)\n",
    "1. [Random Component](#Random-Component)"
   ]
  },
  {
   "cell_type": "markdown",
   "metadata": {},
   "source": [
    "### General Linear Models"
   ]
  },
  {
   "cell_type": "markdown",
   "metadata": {},
   "source": [
    "In the previous section, we learned how to create a logistic regression by using a logistic link function to bound the output of a multiple linear regression to be between $0$ and $1$.\n",
    "\n",
    "There are many different types of link functions that change the properties and outputs of multiple linear regression. The two types that we've learned about so far are:\n",
    "* Gaussian link: $f\\left(\\widehat{y}_i\\right) = \\left(\\frac{1}{\\sqrt{2 \\pi \\sigma^2}}\\right)^n \\exp\\left({- \\frac{\\sum_{i = 1}^{n} \\left(y_i - \\widehat{y}_i \\right)^2}{2 \\sigma^2}}\\right)$\n",
    "* logistic link: $p \\left(\\widehat{y}_i \\right) = \\frac{1}{1 + e^{-\\widehat{y}_i}}$\n",
    "\n",
    "where in both cases, $\\widehat{y}_i = \\widehat{b}_0 + \\widehat{b}_1 x_{1, i} + \\widehat{b}_2 x_{2, i} + ... + \\widehat{b}_k x_{k, i}$. Both of these link functions come from the **exponential family** of distributions. Together, all examples of the exponential family make up a broad class of models known as the **general linear models** (GLM). Many of the common distributions come from the exponential family and can thus be modelled as a GLM:\n",
    "* normal\n",
    "* exponential\n",
    "* Bernoulli\n",
    "* Poisson\n",
    "* gamma\n",
    "* beta\n",
    "* $\\chi^2$\n",
    "\n",
    "The general linear model comprises of:\n",
    "* random components\n",
    "* linear predictor\n",
    "* link function"
   ]
  },
  {
   "cell_type": "markdown",
   "metadata": {},
   "source": [
    "### Random Component"
   ]
  },
  {
   "cell_type": "markdown",
   "metadata": {},
   "source": [
    "The **random component** consists of observations $y_1, ..., y_n$ drawn from an exponential distribution with the form:\n",
    "\n",
    "\\begin{equation}\n",
    "f \\left(y_i, \\theta_i, \\phi \\right) = exp \\left(\\frac{y_i \\theta_i - b(\\theta_i)}{a(\\phi)} + c(y_i, \\phi) \\right)\n",
    "\\end{equation}\n",
    "\n",
    "where $\\theta_i$ is known as a **natural parameter**. This form of distribution makes the log-likelihood easy to find:\n",
    "\n",
    "\\begin{align}\n",
    "ln \\left( f \\left(y_i, \\theta_i, \\phi \\right) \\right) &= ln \\left( exp \\left(\\frac{y_i \\theta_i - b(\\theta_i)}{a(\\phi)} + c(y_i, \\phi) \\right) \\right) \\\\\n",
    "&= \\frac{y_i \\theta_i - b(\\theta_i)}{a(\\phi)} + c(y_i, \\phi)\n",
    "\\end{align}\n",
    "\n",
    "The first two derivatives of the log-likelihood are:\n",
    "\n",
    "\\begin{equation}\n",
    "\\frac{\\partial \\left( ln \\left( f \\left(y_i, \\theta_i, \\phi \\right) \\right) \\right)}{\\partial \\theta_i} = \\frac{y_i - \\frac{\\partial \\left(b(\\theta_i)\\right)}{\\partial \\theta_i}}{a(\\phi)}\n",
    "\\end{equation}\n",
    "\n",
    "and:\n",
    "\n",
    "\\begin{equation}\n",
    "\\frac{\\partial^2 \\left( ln \\left( f \\left(y_i, \\theta_i, \\phi \\right) \\right) \\right)}{\\partial \\theta_i^2} = -\\frac{1}{a(\\phi)} \\frac{\\partial^2 \\left(b(\\theta_i)\\right)}{\\partial \\theta_i^2}\n",
    "\\end{equation}\n",
    "\n",
    "We set the expectation of each derivative to $0$ in order to obtain the least squares results. Setting the expectation of the first derivative to $0$ gives us the mean $(\\mu_i)$:\n",
    "\n",
    "\\begin{align}\n",
    "E \\left\\{ \\frac{\\partial \\left( ln \\left( f \\left(y_i, \\theta_i, \\phi \\right) \\right) \\right)}{\\partial \\theta_i} \\right\\} &= E \\left\\{ \\frac{y_i - \\frac{\\partial \\left(b(\\theta_i)\\right)}{\\partial \\theta_i}}{a(\\phi)} \\right\\} = 0 \\\\\n",
    "0 &= \\frac{E \\left\\{ y_i - \\frac{\\partial \\left(b(\\theta_i)\\right)}{\\partial \\theta_i} \\right\\} }{a(\\phi)} \\\\\n",
    "0 &= \\frac{ E \\left\\{y_i \\right\\} - E \\left\\{ \\frac{\\partial \\left(b(\\theta_i)\\right)}{\\partial \\theta_i} \\right\\}}{a(\\phi)} \\\\\n",
    "\\frac{E \\left\\{y_i \\right\\}}{a(\\phi)} &= \\frac{E \\left\\{ \\frac{\\partial \\left(b(\\theta_i)\\right)}{\\partial \\theta_i} \\right\\}}{a(\\phi)} \\\\\n",
    "E \\left\\{y_i \\right\\} &= E \\left\\{ \\frac{\\partial \\left(b(\\theta_i)\\right)}{\\partial \\theta_i} \\right\\} = \\frac{\\partial \\left(b(\\theta_i)\\right)}{\\partial \\theta_i} \\\\\n",
    "\\mu_i &= \\frac{\\partial \\left(b(\\theta_i)\\right)}{\\partial \\theta_i} \\\\\n",
    "\\end{align}\n",
    "\n",
    "The variance is a bit more complicated, so the derivation steps are skipped:\n",
    "\n",
    "\\begin{equation}\n",
    "var\\{y_i\\} = a(\\phi)\\frac{\\partial^2 \\left(b(\\theta_i)\\right)}{\\partial \\theta_i^2}\n",
    "\\end{equation}"
   ]
  }
 ],
 "metadata": {
  "kernelspec": {
   "display_name": "SAS",
   "language": "sas",
   "name": "sas"
  },
  "language_info": {
   "codemirror_mode": "sas",
   "file_extension": ".sas",
   "mimetype": "text/x-sas",
   "name": "sas"
  }
 },
 "nbformat": 4,
 "nbformat_minor": 0
}
