{
 "cells": [
  {
   "cell_type": "markdown",
   "metadata": {},
   "source": [
    "# Logistic Regression"
   ]
  },
  {
   "cell_type": "markdown",
   "metadata": {},
   "source": [
    "## Table of Contents:"
   ]
  },
  {
   "cell_type": "markdown",
   "metadata": {},
   "source": [
    "1. [Classification](#Classification)\n",
    "2. [Logistic Regression](#Logistic-Regression)"
   ]
  },
  {
   "cell_type": "markdown",
   "metadata": {},
   "source": [
    "### Classification"
   ]
  },
  {
   "cell_type": "markdown",
   "metadata": {},
   "source": [
    "Classification involves sorting observations into discrete categories based on the values of the feature variables. For example, undegraduate college students can be sorted into \"freshmen,\" \"sophomores,\" \"juniors,\" and \"seniors\" depending on the year that they started. Other results can be sorted into \"success/failure\" or \"true/false.\"\n",
    "\n",
    "**Logistic regression** is a type of regression that allows you to determine the relationship between two categories based on supplied feature variable values. For example, is someone likely to be a Democrat or Republican based on that person's education, income, age, etc.?"
   ]
  },
  {
   "cell_type": "markdown",
   "metadata": {},
   "source": [
    "### Logistic Regression"
   ]
  },
  {
   "cell_type": "markdown",
   "metadata": {},
   "source": [
    "Both logistic regression and regression with normal errors, as described in the previous sections, come from a class of functions called the **exponential family**. The form that the errors are distributed in all members of this family use the exponent in some way to create their shape."
   ]
  }
 ],
 "metadata": {
  "kernelspec": {
   "display_name": "SAS",
   "language": "sas",
   "name": "sas"
  },
  "language_info": {
   "codemirror_mode": "sas",
   "file_extension": ".sas",
   "mimetype": "text/x-sas",
   "name": "sas"
  }
 },
 "nbformat": 4,
 "nbformat_minor": 0
}
